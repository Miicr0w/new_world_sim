{
 "cells": [
  {
   "cell_type": "code",
   "execution_count": 1,
   "metadata": {},
   "outputs": [
    {
     "ename": "KeyboardInterrupt",
     "evalue": "",
     "output_type": "error",
     "traceback": [
      "\u001b[0;31m---------------------------------------------------------------------------\u001b[0m",
      "\u001b[0;31mKeyboardInterrupt\u001b[0m                         Traceback (most recent call last)",
      "Cell \u001b[0;32mIn[1], line 18\u001b[0m\n\u001b[1;32m     15\u001b[0m                     temp_list\u001b[39m.\u001b[39mappend(amt_aversion)\n\u001b[1;32m     16\u001b[0m                     df_input\u001b[39m.\u001b[39mappend(temp_list)\n\u001b[0;32m---> 18\u001b[0m df \u001b[39m=\u001b[39m pd\u001b[39m.\u001b[39;49mDataFrame(df_input,columns\u001b[39m=\u001b[39;49m[\u001b[39m\"\u001b[39;49m\u001b[39mdamage\u001b[39;49m\u001b[39m\"\u001b[39;49m,\u001b[39m\"\u001b[39;49m\u001b[39mbase damage\u001b[39;49m\u001b[39m\"\u001b[39;49m,\u001b[39m\"\u001b[39;49m\u001b[39mcrit\u001b[39;49m\u001b[39m\"\u001b[39;49m,\u001b[39m\"\u001b[39;49m\u001b[39mcrit damage modifier\u001b[39;49m\u001b[39m\"\u001b[39;49m,\u001b[39m\"\u001b[39;49m\u001b[39mempower \u001b[39;49m\u001b[39m%\u001b[39;49m\u001b[39m\"\u001b[39;49m,\u001b[39m\"\u001b[39;49m\u001b[39mdmg absorbed\u001b[39;49m\u001b[39m\"\u001b[39;49m,\u001b[39m\"\u001b[39;49m\u001b[39mrend percentage\u001b[39;49m\u001b[39m\"\u001b[39;49m,\u001b[39m\"\u001b[39;49m\u001b[39mamt resil\u001b[39;49m\u001b[39m\"\u001b[39;49m,\u001b[39m\"\u001b[39;49m\u001b[39mamt shirking fort\u001b[39;49m\u001b[39m\"\u001b[39;49m, \u001b[39m\"\u001b[39;49m\u001b[39mamt aversion\u001b[39;49m\u001b[39m\"\u001b[39;49m])\n",
      "File \u001b[0;32m~/.local/lib/python3.10/site-packages/pandas/core/frame.py:782\u001b[0m, in \u001b[0;36mDataFrame.__init__\u001b[0;34m(self, data, index, columns, dtype, copy)\u001b[0m\n\u001b[1;32m    780\u001b[0m     \u001b[39mif\u001b[39;00m columns \u001b[39mis\u001b[39;00m \u001b[39mnot\u001b[39;00m \u001b[39mNone\u001b[39;00m:\n\u001b[1;32m    781\u001b[0m         columns \u001b[39m=\u001b[39m ensure_index(columns)\n\u001b[0;32m--> 782\u001b[0m     arrays, columns, index \u001b[39m=\u001b[39m nested_data_to_arrays(\n\u001b[1;32m    783\u001b[0m         \u001b[39m# error: Argument 3 to \"nested_data_to_arrays\" has incompatible\u001b[39;49;00m\n\u001b[1;32m    784\u001b[0m         \u001b[39m# type \"Optional[Collection[Any]]\"; expected \"Optional[Index]\"\u001b[39;49;00m\n\u001b[1;32m    785\u001b[0m         data,\n\u001b[1;32m    786\u001b[0m         columns,\n\u001b[1;32m    787\u001b[0m         index,  \u001b[39m# type: ignore[arg-type]\u001b[39;49;00m\n\u001b[1;32m    788\u001b[0m         dtype,\n\u001b[1;32m    789\u001b[0m     )\n\u001b[1;32m    790\u001b[0m     mgr \u001b[39m=\u001b[39m arrays_to_mgr(\n\u001b[1;32m    791\u001b[0m         arrays,\n\u001b[1;32m    792\u001b[0m         columns,\n\u001b[0;32m   (...)\u001b[0m\n\u001b[1;32m    795\u001b[0m         typ\u001b[39m=\u001b[39mmanager,\n\u001b[1;32m    796\u001b[0m     )\n\u001b[1;32m    797\u001b[0m \u001b[39melse\u001b[39;00m:\n",
      "File \u001b[0;32m~/.local/lib/python3.10/site-packages/pandas/core/internals/construction.py:498\u001b[0m, in \u001b[0;36mnested_data_to_arrays\u001b[0;34m(data, columns, index, dtype)\u001b[0m\n\u001b[1;32m    495\u001b[0m \u001b[39mif\u001b[39;00m is_named_tuple(data[\u001b[39m0\u001b[39m]) \u001b[39mand\u001b[39;00m columns \u001b[39mis\u001b[39;00m \u001b[39mNone\u001b[39;00m:\n\u001b[1;32m    496\u001b[0m     columns \u001b[39m=\u001b[39m ensure_index(data[\u001b[39m0\u001b[39m]\u001b[39m.\u001b[39m_fields)\n\u001b[0;32m--> 498\u001b[0m arrays, columns \u001b[39m=\u001b[39m to_arrays(data, columns, dtype\u001b[39m=\u001b[39;49mdtype)\n\u001b[1;32m    499\u001b[0m columns \u001b[39m=\u001b[39m ensure_index(columns)\n\u001b[1;32m    501\u001b[0m \u001b[39mif\u001b[39;00m index \u001b[39mis\u001b[39;00m \u001b[39mNone\u001b[39;00m:\n",
      "File \u001b[0;32m~/.local/lib/python3.10/site-packages/pandas/core/internals/construction.py:840\u001b[0m, in \u001b[0;36mto_arrays\u001b[0;34m(data, columns, dtype)\u001b[0m\n\u001b[1;32m    837\u001b[0m     data \u001b[39m=\u001b[39m [\u001b[39mtuple\u001b[39m(x) \u001b[39mfor\u001b[39;00m x \u001b[39min\u001b[39;00m data]\n\u001b[1;32m    838\u001b[0m     arr \u001b[39m=\u001b[39m _list_to_arrays(data)\n\u001b[0;32m--> 840\u001b[0m content, columns \u001b[39m=\u001b[39m _finalize_columns_and_data(arr, columns, dtype)\n\u001b[1;32m    841\u001b[0m \u001b[39mreturn\u001b[39;00m content, columns\n",
      "File \u001b[0;32m~/.local/lib/python3.10/site-packages/pandas/core/internals/construction.py:940\u001b[0m, in \u001b[0;36m_finalize_columns_and_data\u001b[0;34m(content, columns, dtype)\u001b[0m\n\u001b[1;32m    937\u001b[0m     \u001b[39mraise\u001b[39;00m \u001b[39mValueError\u001b[39;00m(err) \u001b[39mfrom\u001b[39;00m \u001b[39merr\u001b[39;00m\n\u001b[1;32m    939\u001b[0m \u001b[39mif\u001b[39;00m \u001b[39mlen\u001b[39m(contents) \u001b[39mand\u001b[39;00m contents[\u001b[39m0\u001b[39m]\u001b[39m.\u001b[39mdtype \u001b[39m==\u001b[39m np\u001b[39m.\u001b[39mobject_:\n\u001b[0;32m--> 940\u001b[0m     contents \u001b[39m=\u001b[39m convert_object_array(contents, dtype\u001b[39m=\u001b[39;49mdtype)\n\u001b[1;32m    942\u001b[0m \u001b[39mreturn\u001b[39;00m contents, columns\n",
      "File \u001b[0;32m~/.local/lib/python3.10/site-packages/pandas/core/internals/construction.py:1067\u001b[0m, in \u001b[0;36mconvert_object_array\u001b[0;34m(content, dtype, dtype_backend, coerce_float)\u001b[0m\n\u001b[1;32m   1063\u001b[0m             arr \u001b[39m=\u001b[39m maybe_cast_to_datetime(arr, dtype)\n\u001b[1;32m   1065\u001b[0m     \u001b[39mreturn\u001b[39;00m arr\n\u001b[0;32m-> 1067\u001b[0m arrays \u001b[39m=\u001b[39m [convert(arr) \u001b[39mfor\u001b[39;00m arr \u001b[39min\u001b[39;00m content]\n\u001b[1;32m   1069\u001b[0m \u001b[39mreturn\u001b[39;00m arrays\n",
      "File \u001b[0;32m~/.local/lib/python3.10/site-packages/pandas/core/internals/construction.py:1067\u001b[0m, in \u001b[0;36m<listcomp>\u001b[0;34m(.0)\u001b[0m\n\u001b[1;32m   1063\u001b[0m             arr \u001b[39m=\u001b[39m maybe_cast_to_datetime(arr, dtype)\n\u001b[1;32m   1065\u001b[0m     \u001b[39mreturn\u001b[39;00m arr\n\u001b[0;32m-> 1067\u001b[0m arrays \u001b[39m=\u001b[39m [convert(arr) \u001b[39mfor\u001b[39;00m arr \u001b[39min\u001b[39;00m content]\n\u001b[1;32m   1069\u001b[0m \u001b[39mreturn\u001b[39;00m arrays\n",
      "File \u001b[0;32m~/.local/lib/python3.10/site-packages/pandas/core/internals/construction.py:1025\u001b[0m, in \u001b[0;36mconvert_object_array.<locals>.convert\u001b[0;34m(arr)\u001b[0m\n\u001b[1;32m   1023\u001b[0m \u001b[39mdef\u001b[39;00m \u001b[39mconvert\u001b[39m(arr):\n\u001b[1;32m   1024\u001b[0m     \u001b[39mif\u001b[39;00m dtype \u001b[39m!=\u001b[39m np\u001b[39m.\u001b[39mdtype(\u001b[39m\"\u001b[39m\u001b[39mO\u001b[39m\u001b[39m\"\u001b[39m):\n\u001b[0;32m-> 1025\u001b[0m         arr \u001b[39m=\u001b[39m lib\u001b[39m.\u001b[39;49mmaybe_convert_objects(\n\u001b[1;32m   1026\u001b[0m             arr,\n\u001b[1;32m   1027\u001b[0m             try_float\u001b[39m=\u001b[39;49mcoerce_float,\n\u001b[1;32m   1028\u001b[0m             convert_to_nullable_dtype\u001b[39m=\u001b[39;49mdtype_backend \u001b[39m!=\u001b[39;49m \u001b[39m\"\u001b[39;49m\u001b[39mnumpy\u001b[39;49m\u001b[39m\"\u001b[39;49m,\n\u001b[1;32m   1029\u001b[0m         )\n\u001b[1;32m   1030\u001b[0m         \u001b[39m# Notes on cases that get here 2023-02-15\u001b[39;00m\n\u001b[1;32m   1031\u001b[0m         \u001b[39m# 1) we DO get here when arr is all Timestamps and dtype=None\u001b[39;00m\n\u001b[1;32m   1032\u001b[0m         \u001b[39m# 2) disabling this doesn't break the world, so this must be\u001b[39;00m\n\u001b[1;32m   1033\u001b[0m         \u001b[39m#    getting caught at a higher level\u001b[39;00m\n\u001b[1;32m   1034\u001b[0m         \u001b[39m# 3) passing convert_datetime to maybe_convert_objects get this right\u001b[39;00m\n\u001b[1;32m   1035\u001b[0m         \u001b[39m# 4) convert_timedelta?\u001b[39;00m\n\u001b[1;32m   1037\u001b[0m         \u001b[39mif\u001b[39;00m dtype \u001b[39mis\u001b[39;00m \u001b[39mNone\u001b[39;00m:\n",
      "\u001b[0;31mKeyboardInterrupt\u001b[0m: "
     ]
    }
   ],
   "source": [
    "import calc_rng_dmg # need to restart kernal if you change amt of resil\n",
    "import pandas as pd\n",
    "from concurrent.futures import ThreadPoolExecutor\n",
    "\n",
    "df_input = []\n",
    "df_input2 = []\n",
    "for amt_resil in range(6):\n",
    "    for amt_shirking_fort in range(6):\n",
    "        for amt_aversion in range(6):\n",
    "            if amt_shirking_fort + amt_aversion == 0 or (amt_shirking_fort + amt_resil >= 5 and amt_shirking_fort + amt_aversion <= 6): # want combined 5-6 EA/SF or non sf/ea for resil data\n",
    "                for i in range(100000):\n",
    "                    temp_list = calc_rng_dmg.calc_dmg(\"light_fs_vicious_fire_damage\",amt_resil_ui=amt_resil,amt_shirking_ui=amt_shirking_fort,amt_aversion_ui=amt_aversion)\n",
    "                    temp_list.append(amt_resil)\n",
    "                    temp_list.append(amt_shirking_fort)\n",
    "                    temp_list.append(amt_aversion)\n",
    "                    df_input.append(temp_list)\n",
    "\n",
    "df = pd.DataFrame(df_input,columns=[\"damage\",\"base damage\",\"crit\",\"crit damage modifier\",\"empower %\",\"dmg absorbed\",\"rend percentage\",\"amt resil\",\"amt shirking fort\", \"amt aversion\"])"
   ]
  },
  {
   "cell_type": "markdown",
   "metadata": {},
   "source": [
    "### Meta Gear Analysis"
   ]
  },
  {
   "cell_type": "code",
   "execution_count": null,
   "metadata": {},
   "outputs": [
    {
     "data": {
      "text/html": [
       "<div>\n",
       "<style scoped>\n",
       "    .dataframe tbody tr th:only-of-type {\n",
       "        vertical-align: middle;\n",
       "    }\n",
       "\n",
       "    .dataframe tbody tr th {\n",
       "        vertical-align: top;\n",
       "    }\n",
       "\n",
       "    .dataframe thead th {\n",
       "        text-align: right;\n",
       "    }\n",
       "</style>\n",
       "<table border=\"1\" class=\"dataframe\">\n",
       "  <thead>\n",
       "    <tr style=\"text-align: right;\">\n",
       "      <th></th>\n",
       "      <th>damage</th>\n",
       "      <th>base damage</th>\n",
       "      <th>crit</th>\n",
       "      <th>crit damage modifier</th>\n",
       "      <th>empower %</th>\n",
       "      <th>dmg absorbed</th>\n",
       "      <th>rend percentage</th>\n",
       "      <th>amt resil</th>\n",
       "      <th>amt shirking fort</th>\n",
       "      <th>amt aversion</th>\n",
       "    </tr>\n",
       "  </thead>\n",
       "  <tbody>\n",
       "    <tr>\n",
       "      <th>8079576</th>\n",
       "      <td>1254</td>\n",
       "      <td>1726</td>\n",
       "      <td>False</td>\n",
       "      <td>1.38</td>\n",
       "      <td>1.11</td>\n",
       "      <td>0.85</td>\n",
       "      <td>0.77</td>\n",
       "      <td>5</td>\n",
       "      <td>5</td>\n",
       "      <td>1</td>\n",
       "    </tr>\n",
       "    <tr>\n",
       "      <th>8055070</th>\n",
       "      <td>1270</td>\n",
       "      <td>1726</td>\n",
       "      <td>False</td>\n",
       "      <td>1.38</td>\n",
       "      <td>1.11</td>\n",
       "      <td>0.85</td>\n",
       "      <td>0.78</td>\n",
       "      <td>5</td>\n",
       "      <td>5</td>\n",
       "      <td>1</td>\n",
       "    </tr>\n",
       "    <tr>\n",
       "      <th>8058561</th>\n",
       "      <td>1282</td>\n",
       "      <td>1726</td>\n",
       "      <td>False</td>\n",
       "      <td>1.38</td>\n",
       "      <td>1.12</td>\n",
       "      <td>0.85</td>\n",
       "      <td>0.78</td>\n",
       "      <td>5</td>\n",
       "      <td>5</td>\n",
       "      <td>1</td>\n",
       "    </tr>\n",
       "    <tr>\n",
       "      <th>7995128</th>\n",
       "      <td>1290</td>\n",
       "      <td>1775</td>\n",
       "      <td>False</td>\n",
       "      <td>1.38</td>\n",
       "      <td>1.11</td>\n",
       "      <td>0.85</td>\n",
       "      <td>0.77</td>\n",
       "      <td>5</td>\n",
       "      <td>5</td>\n",
       "      <td>0</td>\n",
       "    </tr>\n",
       "    <tr>\n",
       "      <th>7964454</th>\n",
       "      <td>1290</td>\n",
       "      <td>1775</td>\n",
       "      <td>False</td>\n",
       "      <td>1.38</td>\n",
       "      <td>1.11</td>\n",
       "      <td>0.85</td>\n",
       "      <td>0.77</td>\n",
       "      <td>5</td>\n",
       "      <td>5</td>\n",
       "      <td>0</td>\n",
       "    </tr>\n",
       "    <tr>\n",
       "      <th>...</th>\n",
       "      <td>...</td>\n",
       "      <td>...</td>\n",
       "      <td>...</td>\n",
       "      <td>...</td>\n",
       "      <td>...</td>\n",
       "      <td>...</td>\n",
       "      <td>...</td>\n",
       "      <td>...</td>\n",
       "      <td>...</td>\n",
       "      <td>...</td>\n",
       "    </tr>\n",
       "    <tr>\n",
       "      <th>7925293</th>\n",
       "      <td>3598</td>\n",
       "      <td>2625</td>\n",
       "      <td>True</td>\n",
       "      <td>1.38</td>\n",
       "      <td>1.29</td>\n",
       "      <td>0.85</td>\n",
       "      <td>1.25</td>\n",
       "      <td>5</td>\n",
       "      <td>5</td>\n",
       "      <td>0</td>\n",
       "    </tr>\n",
       "    <tr>\n",
       "      <th>7988393</th>\n",
       "      <td>3598</td>\n",
       "      <td>2625</td>\n",
       "      <td>True</td>\n",
       "      <td>1.38</td>\n",
       "      <td>1.29</td>\n",
       "      <td>0.85</td>\n",
       "      <td>1.25</td>\n",
       "      <td>5</td>\n",
       "      <td>5</td>\n",
       "      <td>0</td>\n",
       "    </tr>\n",
       "    <tr>\n",
       "      <th>7911212</th>\n",
       "      <td>3608</td>\n",
       "      <td>2612</td>\n",
       "      <td>True</td>\n",
       "      <td>1.38</td>\n",
       "      <td>1.30</td>\n",
       "      <td>0.85</td>\n",
       "      <td>1.25</td>\n",
       "      <td>5</td>\n",
       "      <td>5</td>\n",
       "      <td>0</td>\n",
       "    </tr>\n",
       "    <tr>\n",
       "      <th>7951268</th>\n",
       "      <td>3613</td>\n",
       "      <td>2637</td>\n",
       "      <td>True</td>\n",
       "      <td>1.38</td>\n",
       "      <td>1.30</td>\n",
       "      <td>0.85</td>\n",
       "      <td>1.24</td>\n",
       "      <td>5</td>\n",
       "      <td>5</td>\n",
       "      <td>0</td>\n",
       "    </tr>\n",
       "    <tr>\n",
       "      <th>7982664</th>\n",
       "      <td>3613</td>\n",
       "      <td>2637</td>\n",
       "      <td>True</td>\n",
       "      <td>1.38</td>\n",
       "      <td>1.30</td>\n",
       "      <td>0.85</td>\n",
       "      <td>1.24</td>\n",
       "      <td>5</td>\n",
       "      <td>5</td>\n",
       "      <td>0</td>\n",
       "    </tr>\n",
       "  </tbody>\n",
       "</table>\n",
       "<p>200000 rows × 10 columns</p>\n",
       "</div>"
      ],
      "text/plain": [
       "         damage  base damage   crit  crit damage modifier  empower %  \\\n",
       "8079576    1254         1726  False                  1.38       1.11   \n",
       "8055070    1270         1726  False                  1.38       1.11   \n",
       "8058561    1282         1726  False                  1.38       1.12   \n",
       "7995128    1290         1775  False                  1.38       1.11   \n",
       "7964454    1290         1775  False                  1.38       1.11   \n",
       "...         ...          ...    ...                   ...        ...   \n",
       "7925293    3598         2625   True                  1.38       1.29   \n",
       "7988393    3598         2625   True                  1.38       1.29   \n",
       "7911212    3608         2612   True                  1.38       1.30   \n",
       "7951268    3613         2637   True                  1.38       1.30   \n",
       "7982664    3613         2637   True                  1.38       1.30   \n",
       "\n",
       "         dmg absorbed  rend percentage  amt resil  amt shirking fort  \\\n",
       "8079576          0.85             0.77          5                  5   \n",
       "8055070          0.85             0.78          5                  5   \n",
       "8058561          0.85             0.78          5                  5   \n",
       "7995128          0.85             0.77          5                  5   \n",
       "7964454          0.85             0.77          5                  5   \n",
       "...               ...              ...        ...                ...   \n",
       "7925293          0.85             1.25          5                  5   \n",
       "7988393          0.85             1.25          5                  5   \n",
       "7911212          0.85             1.25          5                  5   \n",
       "7951268          0.85             1.24          5                  5   \n",
       "7982664          0.85             1.24          5                  5   \n",
       "\n",
       "         amt aversion  \n",
       "8079576             1  \n",
       "8055070             1  \n",
       "8058561             1  \n",
       "7995128             0  \n",
       "7964454             0  \n",
       "...               ...  \n",
       "7925293             0  \n",
       "7988393             0  \n",
       "7911212             0  \n",
       "7951268             0  \n",
       "7982664             0  \n",
       "\n",
       "[200000 rows x 10 columns]"
      ]
     },
     "execution_count": 2,
     "metadata": {},
     "output_type": "execute_result"
    }
   ],
   "source": [
    "sf_df = df[(df['amt resil'] == 5) & (df['amt shirking fort'] == 5)]\n",
    "ea_df = df[(df['amt resil'] == 5) & (df['amt aversion'] == 5)]\n",
    "illegal_sf_df = df[(df['amt resil'] == 4) & (df['amt shirking fort'] == 5) & (df['amt aversion'] == 1)]\n",
    "illegal_ea_df = df[(df['amt resil'] == 4) & (df['amt shirking fort'] == 1) & (df['amt aversion'] == 5)]\n",
    "\n",
    "sf_df.sort_values(by='damage')"
   ]
  },
  {
   "cell_type": "code",
   "execution_count": null,
   "metadata": {},
   "outputs": [
    {
     "name": "stdout",
     "output_type": "stream",
     "text": [
      "sf mean: 2133.75492 sf median: 2092.0 standard deviation: 369.82 max: 3613\n",
      "sf mean: 1997.22163 sf median: 1961.0 standard deviation: 355.98 max: 3305\n",
      "sf mean: 2124.06006 sf median: 2080.0 standard deviation: 381.72 max: 3599\n",
      "sf mean: 2002.81854 sf median: 1962.0 standard deviation: 370.05 max: 3332\n"
     ]
    }
   ],
   "source": [
    "print(f\"sf mean: {sf_df['damage'].mean()} sf median: {sf_df['damage'].median()} standard deviation: {round(sf_df['damage'].std(),2)} max: {sf_df['damage'].max()}\")\n",
    "print(f\"sf mean: {ea_df['damage'].mean()} sf median: {ea_df['damage'].median()} standard deviation: {round(ea_df['damage'].std(),2)} max: {ea_df['damage'].max()}\")\n",
    "print(f\"sf mean: {illegal_sf_df['damage'].mean()} sf median: {illegal_sf_df['damage'].median()} standard deviation: {round(illegal_sf_df['damage'].std(),2)} max: {illegal_sf_df['damage'].max()}\")\n",
    "print(f\"sf mean: {illegal_ea_df['damage'].mean()} sf median: {illegal_ea_df['damage'].median()} standard deviation: {round(illegal_ea_df['damage'].std(),2)} max: {illegal_ea_df['damage'].max()}\")"
   ]
  },
  {
   "cell_type": "code",
   "execution_count": null,
   "metadata": {},
   "outputs": [
    {
     "data": {
      "text/plain": [
       "[1.0684, 1.0, 1.0635, 1.0028]"
      ]
     },
     "execution_count": 4,
     "metadata": {},
     "output_type": "execute_result"
    },
    {
     "data": {
      "image/png": "[encoded data removed]",
      "text/plain": [
       "<Figure size 640x480 with 1 Axes>"
      ]
     },
     "metadata": {},
     "output_type": "display_data"
    }
   ],
   "source": [
    "# List of the DataFrames\n",
    "dataframes_list = [sf_df, ea_df, illegal_sf_df, illegal_ea_df]\n",
    "\n",
    "# Extract the 'damage' column from each DataFrame and concatenate them into box_df\n",
    "box_df = pd.concat([df['damage'].dropna() for df in dataframes_list], axis=1)\n",
    "mean = [df['damage'].mean() for df in dataframes_list]\n",
    "\n",
    "# Rename the columns in the new DataFrame\n",
    "column_names = ['5 sf','5 ea','sf exp','ea exp']\n",
    "box_df.columns = column_names\n",
    "\n",
    "bplt = box_df.plot.box()\n",
    "bplt.set_ylabel(\"damage done\")\n",
    "bplt.set_title(\"dmg taken in meta gear\")\n",
    "\n",
    "base_resil_dmg = min(mean)\n",
    "mean_dmg_percent = [round(x/base_resil_dmg,4) for x in mean]\n",
    "mean_dmg_percent\n"
   ]
  },
  {
   "cell_type": "markdown",
   "metadata": {},
   "source": [
    "### Resil Analysis"
   ]
  },
  {
   "cell_type": "code",
   "execution_count": null,
   "metadata": {},
   "outputs": [],
   "source": [
    "r0df = df[(df['amt resil']==0) & (df['amt aversion']==0) & (df['amt shirking fort']==0)]\n",
    "r1df = df[(df['amt resil']==1) & (df['amt aversion']==0) & (df['amt shirking fort']==0)]\n",
    "r2df = df[(df['amt resil']==2) & (df['amt aversion']==0) & (df['amt shirking fort']==0)]\n",
    "r3df = df[(df['amt resil']==3) & (df['amt aversion']==0) & (df['amt shirking fort']==0)]\n",
    "r4df = df[(df['amt resil']==4) & (df['amt aversion']==0) & (df['amt shirking fort']==0)]\n",
    "r5df = df[(df['amt resil']==5) & (df['amt aversion']==0) & (df['amt shirking fort']==0)]"
   ]
  },
  {
   "cell_type": "code",
   "execution_count": null,
   "metadata": {},
   "outputs": [
    {
     "name": "stdout",
     "output_type": "stream",
     "text": [
      "0 resil mean: 2359.95374 sf median: 2282.0 standard deviation: 492.64 max: 4040\n",
      "1 resil mean: 2339.73958 sf median: 2276.0 standard deviation: 464.73 max: 3971\n",
      "2 resil mean: 2319.94672 sf median: 2265.0 standard deviation: 442.35 max: 3884\n",
      "3 resil mean: 2296.46917 sf median: 2250.0 standard deviation: 418.15 max: 3780\n",
      "4 resil mean: 2279.28974 sf median: 2240.0 standard deviation: 396.65 max: 3695\n",
      "5 resil mean: 2262.55431 sf median: 2225.0 standard deviation: 381.77 max: 3614\n"
     ]
    }
   ],
   "source": [
    "print(f\"0 resil mean: {r0df['damage'].mean()} sf median: {r0df['damage'].median()} standard deviation: {round(r0df['damage'].std(),2)} max: {r0df['damage'].max()}\")\n",
    "print(f\"1 resil mean: {r1df['damage'].mean()} sf median: {r1df['damage'].median()} standard deviation: {round(r1df['damage'].std(),2)} max: {r1df['damage'].max()}\")\n",
    "print(f\"2 resil mean: {r2df['damage'].mean()} sf median: {r2df['damage'].median()} standard deviation: {round(r2df['damage'].std(),2)} max: {r2df['damage'].max()}\")\n",
    "print(f\"3 resil mean: {r3df['damage'].mean()} sf median: {r3df['damage'].median()} standard deviation: {round(r3df['damage'].std(),2)} max: {r3df['damage'].max()}\")\n",
    "print(f\"4 resil mean: {r4df['damage'].mean()} sf median: {r4df['damage'].median()} standard deviation: {round(r4df['damage'].std(),2)} max: {r4df['damage'].max()}\")\n",
    "print(f\"5 resil mean: {r5df['damage'].mean()} sf median: {r5df['damage'].median()} standard deviation: {round(r5df['damage'].std(),2)} max: {r5df['damage'].max()}\")\n"
   ]
  },
  {
   "cell_type": "code",
   "execution_count": null,
   "metadata": {},
   "outputs": [
    {
     "data": {
      "text/plain": [
       "[1.0256, 1.0229, 1.018, 1.0112, 1.0067, 1.0]"
      ]
     },
     "execution_count": 7,
     "metadata": {},
     "output_type": "execute_result"
    },
    {
     "data": {
      "image/png": "[encoded data removed]",
      "text/plain": [
       "<Figure size 640x480 with 1 Axes>"
      ]
     },
     "metadata": {},
     "output_type": "display_data"
    }
   ],
   "source": [
    "# List of the DataFrames\n",
    "dataframes_list = [r0df,r1df,r2df,r3df,r4df,r5df]\n",
    "\n",
    "# Extract the 'damage' column from each DataFrame and concatenate them into box_df\n",
    "box_df = pd.concat([df['damage'].dropna() for df in dataframes_list], axis=1)\n",
    "median = [df['damage'].median() for df in dataframes_list]\n",
    "\n",
    "# Rename the columns in the new DataFrame\n",
    "column_names = ['0 res','1 res','2 res','3 res','4 res','5 res']\n",
    "box_df.columns = column_names\n",
    "\n",
    "bplt = box_df.plot.box()\n",
    "bplt.set_ylabel(\"damage done\")\n",
    "bplt.set_title(\"resil analysis\")\n",
    "\n",
    "base_resil_dmg = min(median)\n",
    "median_dmg_percent = [round(x/base_resil_dmg,4) for x in median]\n",
    "median_dmg_percent\n",
    "\n",
    "# r1df.sort_values(by='damage')"
   ]
  },
  {
   "cell_type": "markdown",
   "metadata": {},
   "source": [
    "### attunement vs shirking analysis"
   ]
  },
  {
   "cell_type": "code",
   "execution_count": null,
   "metadata": {},
   "outputs": [],
   "source": [
    "def get_class_data(nw_class,data_points):\n",
    "    df_input = [None]*data_points\n",
    "    for i in range(data_points):\n",
    "        temp_list = calc_rng_dmg.calc_dmg(nw_class,amt_resil_ui=5,amt_shirking_ui=0,amt_aversion_ui=0)\n",
    "        df_input[i] = temp_list\n",
    "    return df_input\n",
    "\n",
    "shirk = get_class_data(\"med_bruiser_wh_shirk\",100000)\n",
    "attunement = get_class_data(\"med_bruiser_wh_attunement\",100000)\n",
    "\n",
    "df_shirk = pd.DataFrame(shirk,columns=[\"damage\",\"base damage\",\"crit\",\"crit damage modifier\",\"empower %\",\"dmg absorbed\",\"rend percentage\"])\n",
    "df_attunement = pd.DataFrame(attunement,columns=[\"damage\",\"base damage\",\"crit\",\"crit damage modifier\",\"empower %\",\"dmg absorbed\",\"rend percentage\"])"
   ]
  },
  {
   "cell_type": "code",
   "execution_count": null,
   "metadata": {},
   "outputs": [
    {
     "name": "stdout",
     "output_type": "stream",
     "text": [
      "shirking mean: 2539.17086 sf median: 2505.0 standard deviation: 517.73 max: 4348\n",
      "attunement mean: 2601.04261 sf median: 2584.0 standard deviation: 470.5 max: 3807\n"
     ]
    }
   ],
   "source": [
    "print(f\"shirking mean: {df_shirk['damage'].mean()} sf median: {df_shirk['damage'].median()} standard deviation: {round(df_shirk['damage'].std(),2)} max: {df_shirk['damage'].max()}\")\n",
    "print(f\"attunement mean: {df_attunement['damage'].mean()} sf median: {df_attunement['damage'].median()} standard deviation: {round(df_attunement['damage'].std(),2)} max: {df_attunement['damage'].max()}\")"
   ]
  },
  {
   "cell_type": "code",
   "execution_count": null,
   "metadata": {},
   "outputs": [
    {
     "data": {
      "text/plain": [
       "[1.0, 1.0315]"
      ]
     },
     "execution_count": 10,
     "metadata": {},
     "output_type": "execute_result"
    },
    {
     "data": {
      "image/png": "[encoded data removed]",
      "text/plain": [
       "<Figure size 640x480 with 1 Axes>"
      ]
     },
     "metadata": {},
     "output_type": "display_data"
    }
   ],
   "source": [
    "# List of the DataFrames\n",
    "dataframes_list = [df_shirk,df_attunement]\n",
    "\n",
    "# Extract the 'damage' column from each DataFrame and concatenate them into box_df\n",
    "box_df = pd.concat([df['damage'].dropna() for df in dataframes_list], axis=1)\n",
    "median = [df['damage'].median() for df in dataframes_list]\n",
    "\n",
    "# Rename the columns in the new DataFrame\n",
    "column_names = ['shirking','attunement']\n",
    "box_df.columns = column_names\n",
    "\n",
    "bplt = box_df.plot.box()\n",
    "bplt.set_ylabel(\"damage done\")\n",
    "bplt.set_title(\"war hammer shirking vs attunement\")\n",
    "\n",
    "base_resil_dmg = min(median)\n",
    "median_dmg_percent = [round(x/base_resil_dmg,4) for x in median]\n",
    "median_dmg_percent"
   ]
  },
  {
   "cell_type": "code",
   "execution_count": 1,
   "metadata": {},
   "outputs": [],
   "source": [
    "import calc_rng_dmg # need to restart kernal if you change amt of resil\n",
    "import pandas as pd\n",
    "\n",
    "def get_class_data(nw_class,data_points):\n",
    "    df_input = [None]*data_points\n",
    "    for i in range(data_points):\n",
    "        temp_list = calc_rng_dmg.calc_dmg(nw_class,amt_resil_ui=5,amt_shirking_ui=0,amt_aversion_ui=0)\n",
    "        df_input[i] = temp_list\n",
    "    return df_input\n",
    "\n",
    "fd_ip = get_class_data(\"light_fs_vicious_fire_damage\",100000)\n",
    "keen_ip = get_class_data(\"light_fs_vicious_keen\",100000)\n",
    "keen_fd =  get_class_data(\"light_fs_vicious_keen_dmg\",100000)\n",
    "\n",
    "df_fdip = pd.DataFrame(fd_ip,columns=[\"damage\",\"base damage\",\"crit\",\"crit damage modifier\",\"empower %\",\"dmg absorbed\",\"rend percentage\"])\n",
    "df_keenip = pd.DataFrame(keen_ip,columns=[\"damage\",\"base damage\",\"crit\",\"crit damage modifier\",\"empower %\",\"dmg absorbed\",\"rend percentage\"])\n",
    "df_keenfd = pd.DataFrame(keen_fd,columns=[\"damage\",\"base damage\",\"crit\",\"crit damage modifier\",\"empower %\",\"dmg absorbed\",\"rend percentage\"])"
   ]
  },
  {
   "cell_type": "code",
   "execution_count": 2,
   "metadata": {},
   "outputs": [
    {
     "name": "stdout",
     "output_type": "stream",
     "text": [
      "fire damage mean: 2074.33691 sf median: 2031.0 standard deviation: 385.41 max: 3608\n",
      "invig punishment mean: 2035.02957 sf median: 1997.0 standard deviation: 385.92 max: 3474\n",
      "invig punishment mean: 1944.70019 sf median: 1906.0 standard deviation: 371.14 max: 3237\n"
     ]
    }
   ],
   "source": [
    "print(f\"fire damage mean: {df_fdip['damage'].mean()} sf median: {df_fdip['damage'].median()} standard deviation: {round(df_fdip['damage'].std(),2)} max: {df_fdip['damage'].max()}\")\n",
    "print(f\"invig punishment mean: {df_keenip['damage'].mean()} sf median: {df_keenip['damage'].median()} standard deviation: {round(df_keenip['damage'].std(),2)} max: {df_keenip['damage'].max()}\")\n",
    "print(f\"invig punishment mean: {df_keenfd['damage'].mean()} sf median: {df_keenfd['damage'].median()} standard deviation: {round(df_keenfd['damage'].std(),2)} max: {df_keenfd['damage'].max()}\")"
   ]
  },
  {
   "cell_type": "code",
   "execution_count": 3,
   "metadata": {},
   "outputs": [
    {
     "data": {
      "text/plain": [
       "[1.0656, 1.0477, 1.0]"
      ]
     },
     "execution_count": 3,
     "metadata": {},
     "output_type": "execute_result"
    },
    {
     "data": {
      "image/png": "[encoded data removed]",
      "text/plain": [
       "<Figure size 640x480 with 1 Axes>"
      ]
     },
     "metadata": {},
     "output_type": "display_data"
    }
   ],
   "source": [
    "# List of the DataFrames\n",
    "dataframes_list = [df_fdip,df_keenip,df_keenfd]\n",
    "\n",
    "# Extract the 'damage' column from each DataFrame and concatenate them into box_df\n",
    "box_df = pd.concat([df['damage'].dropna() for df in dataframes_list], axis=1)\n",
    "median = [df['damage'].median() for df in dataframes_list]\n",
    "\n",
    "# Rename the columns in the new DataFrame\n",
    "column_names = ['fd invig','keen invig','keen fd']\n",
    "box_df.columns = column_names\n",
    "\n",
    "bplt = box_df.plot.box()\n",
    "bplt.set_ylabel(\"damage done\")\n",
    "bplt.set_title(\"ring perk comparision\")\n",
    "\n",
    "base_resil_dmg = min(median)\n",
    "median_dmg_percent = [round(x/base_resil_dmg,4) for x in median]\n",
    "median_dmg_percent"
   ]
  }
 ],
 "metadata": {
  "kernelspec": {
   "display_name": "Python 3",
   "language": "python",
   "name": "python3"
  },
  "language_info": {
   "codemirror_mode": {
    "name": "ipython",
    "version": 3
   },
   "file_extension": ".py",
   "mimetype": "text/x-python",
   "name": "python",
   "nbconvert_exporter": "python",
   "pygments_lexer": "ipython3",
   "version": "3.10.6"
  },
  "orig_nbformat": 4
 },
 "nbformat": 4,
 "nbformat_minor": 2
}
