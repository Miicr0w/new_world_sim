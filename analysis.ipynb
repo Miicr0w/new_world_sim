{
 "cells": [
  {
   "cell_type": "code",
   "execution_count": 1,
   "metadata": {},
   "outputs": [],
   "source": [
    "import calc_rng_dmg # need to restart kernal if you change amt of resil\n",
    "import pandas as pd\n",
    "from concurrent.futures import ThreadPoolExecutor\n",
    "\n",
    "df_input = []\n",
    "for amt_resil in range(6):\n",
    "    for amt_shirking_fort in range(6):\n",
    "        for amt_aversion in range(6):\n",
    "            if amt_shirking_fort + amt_aversion == 0 or (amt_shirking_fort + amt_resil >= 5 and amt_shirking_fort + amt_aversion <= 6): # want combined 5-6 EA/SF or non sf/ea for resil data\n",
    "                for i in range(100000):\n",
    "                    temp_list = calc_rng_dmg.calc_dmg(\"light_fs_vicious_fire_damage\",amt_resil_ui=amt_resil,amt_shirking_ui=amt_shirking_fort,amt_aversion_ui=amt_aversion)\n",
    "                    temp_list.append(amt_resil)\n",
    "                    temp_list.append(amt_shirking_fort)\n",
    "                    temp_list.append(amt_aversion)\n",
    "                    df_input.append(temp_list)\n",
    "\n",
    "df = pd.DataFrame(df_input,columns=[\"damage\",\"base damage\",\"crit\",\"crit damage modifier\",\"empower %\",\"dmg absorbed\",\"rend percentage\",\"amt resil\",\"amt shirking fort\", \"amt aversion\"])"
   ]
  },
  {
   "cell_type": "markdown",
   "metadata": {},
   "source": [
    "### Meta Gear Analysis"
   ]
  },
  {
   "cell_type": "code",
   "execution_count": 2,
   "metadata": {},
   "outputs": [
    {
     "data": {
      "text/html": [
       "<div>\n",
       "<style scoped>\n",
       "    .dataframe tbody tr th:only-of-type {\n",
       "        vertical-align: middle;\n",
       "    }\n",
       "\n",
       "    .dataframe tbody tr th {\n",
       "        vertical-align: top;\n",
       "    }\n",
       "\n",
       "    .dataframe thead th {\n",
       "        text-align: right;\n",
       "    }\n",
       "</style>\n",
       "<table border=\"1\" class=\"dataframe\">\n",
       "  <thead>\n",
       "    <tr style=\"text-align: right;\">\n",
       "      <th></th>\n",
       "      <th>damage</th>\n",
       "      <th>base damage</th>\n",
       "      <th>crit</th>\n",
       "      <th>crit damage modifier</th>\n",
       "      <th>empower %</th>\n",
       "      <th>dmg absorbed</th>\n",
       "      <th>rend percentage</th>\n",
       "      <th>amt resil</th>\n",
       "      <th>amt shirking fort</th>\n",
       "      <th>amt aversion</th>\n",
       "    </tr>\n",
       "  </thead>\n",
       "  <tbody>\n",
       "    <tr>\n",
       "      <th>8049462</th>\n",
       "      <td>1006</td>\n",
       "      <td>1787</td>\n",
       "      <td>False</td>\n",
       "      <td>1.26</td>\n",
       "      <td>0.86</td>\n",
       "      <td>0.85</td>\n",
       "      <td>0.77</td>\n",
       "      <td>5</td>\n",
       "      <td>5</td>\n",
       "      <td>1</td>\n",
       "    </tr>\n",
       "    <tr>\n",
       "      <th>8058405</th>\n",
       "      <td>1006</td>\n",
       "      <td>1787</td>\n",
       "      <td>False</td>\n",
       "      <td>1.26</td>\n",
       "      <td>0.86</td>\n",
       "      <td>0.85</td>\n",
       "      <td>0.77</td>\n",
       "      <td>5</td>\n",
       "      <td>5</td>\n",
       "      <td>1</td>\n",
       "    </tr>\n",
       "    <tr>\n",
       "      <th>8013461</th>\n",
       "      <td>1007</td>\n",
       "      <td>1787</td>\n",
       "      <td>False</td>\n",
       "      <td>1.26</td>\n",
       "      <td>0.85</td>\n",
       "      <td>0.85</td>\n",
       "      <td>0.78</td>\n",
       "      <td>5</td>\n",
       "      <td>5</td>\n",
       "      <td>1</td>\n",
       "    </tr>\n",
       "    <tr>\n",
       "      <th>8078207</th>\n",
       "      <td>1007</td>\n",
       "      <td>1787</td>\n",
       "      <td>False</td>\n",
       "      <td>1.26</td>\n",
       "      <td>0.85</td>\n",
       "      <td>0.85</td>\n",
       "      <td>0.78</td>\n",
       "      <td>5</td>\n",
       "      <td>5</td>\n",
       "      <td>1</td>\n",
       "    </tr>\n",
       "    <tr>\n",
       "      <th>8016117</th>\n",
       "      <td>1007</td>\n",
       "      <td>1787</td>\n",
       "      <td>False</td>\n",
       "      <td>1.26</td>\n",
       "      <td>0.85</td>\n",
       "      <td>0.85</td>\n",
       "      <td>0.78</td>\n",
       "      <td>5</td>\n",
       "      <td>5</td>\n",
       "      <td>1</td>\n",
       "    </tr>\n",
       "    <tr>\n",
       "      <th>...</th>\n",
       "      <td>...</td>\n",
       "      <td>...</td>\n",
       "      <td>...</td>\n",
       "      <td>...</td>\n",
       "      <td>...</td>\n",
       "      <td>...</td>\n",
       "      <td>...</td>\n",
       "      <td>...</td>\n",
       "      <td>...</td>\n",
       "      <td>...</td>\n",
       "    </tr>\n",
       "    <tr>\n",
       "      <th>7925727</th>\n",
       "      <td>3093</td>\n",
       "      <td>2348</td>\n",
       "      <td>True</td>\n",
       "      <td>1.26</td>\n",
       "      <td>1.25</td>\n",
       "      <td>0.85</td>\n",
       "      <td>1.24</td>\n",
       "      <td>5</td>\n",
       "      <td>5</td>\n",
       "      <td>0</td>\n",
       "    </tr>\n",
       "    <tr>\n",
       "      <th>7926517</th>\n",
       "      <td>3093</td>\n",
       "      <td>2348</td>\n",
       "      <td>True</td>\n",
       "      <td>1.26</td>\n",
       "      <td>1.25</td>\n",
       "      <td>0.85</td>\n",
       "      <td>1.24</td>\n",
       "      <td>5</td>\n",
       "      <td>5</td>\n",
       "      <td>0</td>\n",
       "    </tr>\n",
       "    <tr>\n",
       "      <th>7963512</th>\n",
       "      <td>3118</td>\n",
       "      <td>2348</td>\n",
       "      <td>True</td>\n",
       "      <td>1.26</td>\n",
       "      <td>1.25</td>\n",
       "      <td>0.85</td>\n",
       "      <td>1.25</td>\n",
       "      <td>5</td>\n",
       "      <td>5</td>\n",
       "      <td>0</td>\n",
       "    </tr>\n",
       "    <tr>\n",
       "      <th>7929716</th>\n",
       "      <td>3118</td>\n",
       "      <td>2348</td>\n",
       "      <td>True</td>\n",
       "      <td>1.26</td>\n",
       "      <td>1.25</td>\n",
       "      <td>0.85</td>\n",
       "      <td>1.25</td>\n",
       "      <td>5</td>\n",
       "      <td>5</td>\n",
       "      <td>0</td>\n",
       "    </tr>\n",
       "    <tr>\n",
       "      <th>7977069</th>\n",
       "      <td>3118</td>\n",
       "      <td>2348</td>\n",
       "      <td>True</td>\n",
       "      <td>1.26</td>\n",
       "      <td>1.25</td>\n",
       "      <td>0.85</td>\n",
       "      <td>1.25</td>\n",
       "      <td>5</td>\n",
       "      <td>5</td>\n",
       "      <td>0</td>\n",
       "    </tr>\n",
       "  </tbody>\n",
       "</table>\n",
       "<p>200000 rows × 10 columns</p>\n",
       "</div>"
      ],
      "text/plain": [
       "         damage  base damage   crit  crit damage modifier  empower %  \\\n",
       "8049462    1006         1787  False                  1.26       0.86   \n",
       "8058405    1006         1787  False                  1.26       0.86   \n",
       "8013461    1007         1787  False                  1.26       0.85   \n",
       "8078207    1007         1787  False                  1.26       0.85   \n",
       "8016117    1007         1787  False                  1.26       0.85   \n",
       "...         ...          ...    ...                   ...        ...   \n",
       "7925727    3093         2348   True                  1.26       1.25   \n",
       "7926517    3093         2348   True                  1.26       1.25   \n",
       "7963512    3118         2348   True                  1.26       1.25   \n",
       "7929716    3118         2348   True                  1.26       1.25   \n",
       "7977069    3118         2348   True                  1.26       1.25   \n",
       "\n",
       "         dmg absorbed  rend percentage  amt resil  amt shirking fort  \\\n",
       "8049462          0.85             0.77          5                  5   \n",
       "8058405          0.85             0.77          5                  5   \n",
       "8013461          0.85             0.78          5                  5   \n",
       "8078207          0.85             0.78          5                  5   \n",
       "8016117          0.85             0.78          5                  5   \n",
       "...               ...              ...        ...                ...   \n",
       "7925727          0.85             1.24          5                  5   \n",
       "7926517          0.85             1.24          5                  5   \n",
       "7963512          0.85             1.25          5                  5   \n",
       "7929716          0.85             1.25          5                  5   \n",
       "7977069          0.85             1.25          5                  5   \n",
       "\n",
       "         amt aversion  \n",
       "8049462             1  \n",
       "8058405             1  \n",
       "8013461             1  \n",
       "8078207             1  \n",
       "8016117             1  \n",
       "...               ...  \n",
       "7925727             0  \n",
       "7926517             0  \n",
       "7963512             0  \n",
       "7929716             0  \n",
       "7977069             0  \n",
       "\n",
       "[200000 rows x 10 columns]"
      ]
     },
     "execution_count": 2,
     "metadata": {},
     "output_type": "execute_result"
    }
   ],
   "source": [
    "sf_df = df[(df['amt resil'] == 5) & (df['amt shirking fort'] == 5)]\n",
    "ea_df = df[(df['amt resil'] == 5) & (df['amt aversion'] == 5)]\n",
    "illegal_sf_df = df[(df['amt resil'] == 4) & (df['amt shirking fort'] == 5) & (df['amt aversion'] == 1)]\n",
    "illegal_ea_df = df[(df['amt resil'] == 4) & (df['amt shirking fort'] == 1) & (df['amt aversion'] == 5)]\n",
    "\n",
    "sf_df.sort_values(by='damage')"
   ]
  },
  {
   "cell_type": "code",
   "execution_count": 3,
   "metadata": {},
   "outputs": [
    {
     "name": "stdout",
     "output_type": "stream",
     "text": [
      "sf mean: 1831.779055 sf median: 1800.0 standard deviation: 323.29 max: 3118\n",
      "sf mean: 1710.90022 sf median: 1682.0 standard deviation: 304.52 max: 2796\n",
      "sf mean: 1830.27204 sf median: 1798.0 standard deviation: 333.02 max: 3121\n",
      "sf mean: 1723.01077 sf median: 1693.0 standard deviation: 316.12 max: 2862\n"
     ]
    }
   ],
   "source": [
    "print(f\"sf mean: {sf_df['damage'].mean()} sf median: {sf_df['damage'].median()} standard deviation: {round(sf_df['damage'].std(),2)} max: {sf_df['damage'].max()}\")\n",
    "print(f\"sf mean: {ea_df['damage'].mean()} sf median: {ea_df['damage'].median()} standard deviation: {round(ea_df['damage'].std(),2)} max: {ea_df['damage'].max()}\")\n",
    "print(f\"sf mean: {illegal_sf_df['damage'].mean()} sf median: {illegal_sf_df['damage'].median()} standard deviation: {round(illegal_sf_df['damage'].std(),2)} max: {illegal_sf_df['damage'].max()}\")\n",
    "print(f\"sf mean: {illegal_ea_df['damage'].mean()} sf median: {illegal_ea_df['damage'].median()} standard deviation: {round(illegal_ea_df['damage'].std(),2)} max: {illegal_ea_df['damage'].max()}\")"
   ]
  },
  {
   "cell_type": "code",
   "execution_count": 4,
   "metadata": {},
   "outputs": [
    {
     "data": {
      "text/plain": [
       "[1.0707, 1.0, 1.0698, 1.0071]"
      ]
     },
     "execution_count": 4,
     "metadata": {},
     "output_type": "execute_result"
    },
    {
     "data": {
      "image/png": "[encoded data removed]",
      "text/plain": [
       "<Figure size 640x480 with 1 Axes>"
      ]
     },
     "metadata": {},
     "output_type": "display_data"
    }
   ],
   "source": [
    "# List of the DataFrames\n",
    "dataframes_list = [sf_df, ea_df, illegal_sf_df, illegal_ea_df]\n",
    "\n",
    "# Extract the 'damage' column from each DataFrame and concatenate them into box_df\n",
    "box_df = pd.concat([df['damage'].dropna() for df in dataframes_list], axis=1)\n",
    "mean = [df['damage'].mean() for df in dataframes_list]\n",
    "\n",
    "# Rename the columns in the new DataFrame\n",
    "column_names = ['5 sf','5 ea','sf exp','ea exp']\n",
    "box_df.columns = column_names\n",
    "\n",
    "bplt = box_df.plot.box()\n",
    "bplt.set_ylabel(\"damage done\")\n",
    "bplt.set_title(\"dmg taken in meta gear\")\n",
    "\n",
    "base_resil_dmg = min(mean)\n",
    "mean_dmg_percent = [round(x/base_resil_dmg,4) for x in mean]\n",
    "mean_dmg_percent\n"
   ]
  },
  {
   "cell_type": "markdown",
   "metadata": {},
   "source": [
    "### Resil Analysis"
   ]
  },
  {
   "cell_type": "code",
   "execution_count": 5,
   "metadata": {},
   "outputs": [],
   "source": [
    "r0df = df[(df['amt resil']==0) & (df['amt aversion']==0) & (df['amt shirking fort']==0)]\n",
    "r1df = df[(df['amt resil']==1) & (df['amt aversion']==0) & (df['amt shirking fort']==0)]\n",
    "r2df = df[(df['amt resil']==2) & (df['amt aversion']==0) & (df['amt shirking fort']==0)]\n",
    "r3df = df[(df['amt resil']==3) & (df['amt aversion']==0) & (df['amt shirking fort']==0)]\n",
    "r4df = df[(df['amt resil']==4) & (df['amt aversion']==0) & (df['amt shirking fort']==0)]\n",
    "r5df = df[(df['amt resil']==5) & (df['amt aversion']==0) & (df['amt shirking fort']==0)]"
   ]
  },
  {
   "cell_type": "code",
   "execution_count": 6,
   "metadata": {},
   "outputs": [
    {
     "name": "stdout",
     "output_type": "stream",
     "text": [
      "0 resil mean: 2062.80036 sf median: 2013.0 standard deviation: 428.35 max: 3517\n",
      "1 resil mean: 2037.11414 sf median: 1992.0 standard deviation: 406.73 max: 3435\n",
      "2 resil mean: 2010.3088 sf median: 1971.0 standard deviation: 384.79 max: 3351\n",
      "3 resil mean: 1987.43884 sf median: 1950.0 standard deviation: 365.98 max: 3269\n",
      "4 resil mean: 1961.27327 sf median: 1929.0 standard deviation: 348.17 max: 3185\n",
      "5 resil mean: 1944.17354 sf median: 1913.0 standard deviation: 335.14 max: 3118\n"
     ]
    }
   ],
   "source": [
    "print(f\"0 resil mean: {r0df['damage'].mean()} sf median: {r0df['damage'].median()} standard deviation: {round(r0df['damage'].std(),2)} max: {r0df['damage'].max()}\")\n",
    "print(f\"1 resil mean: {r1df['damage'].mean()} sf median: {r1df['damage'].median()} standard deviation: {round(r1df['damage'].std(),2)} max: {r1df['damage'].max()}\")\n",
    "print(f\"2 resil mean: {r2df['damage'].mean()} sf median: {r2df['damage'].median()} standard deviation: {round(r2df['damage'].std(),2)} max: {r2df['damage'].max()}\")\n",
    "print(f\"3 resil mean: {r3df['damage'].mean()} sf median: {r3df['damage'].median()} standard deviation: {round(r3df['damage'].std(),2)} max: {r3df['damage'].max()}\")\n",
    "print(f\"4 resil mean: {r4df['damage'].mean()} sf median: {r4df['damage'].median()} standard deviation: {round(r4df['damage'].std(),2)} max: {r4df['damage'].max()}\")\n",
    "print(f\"5 resil mean: {r5df['damage'].mean()} sf median: {r5df['damage'].median()} standard deviation: {round(r5df['damage'].std(),2)} max: {r5df['damage'].max()}\")\n"
   ]
  },
  {
   "cell_type": "code",
   "execution_count": 7,
   "metadata": {},
   "outputs": [
    {
     "data": {
      "text/plain": [
       "[1.0523, 1.0413, 1.0303, 1.0193, 1.0084, 1.0]"
      ]
     },
     "execution_count": 7,
     "metadata": {},
     "output_type": "execute_result"
    },
    {
     "data": {
      "image/png": "[encoded data removed]",
      "text/plain": [
       "<Figure size 640x480 with 1 Axes>"
      ]
     },
     "metadata": {},
     "output_type": "display_data"
    }
   ],
   "source": [
    "# List of the DataFrames\n",
    "dataframes_list = [r0df,r1df,r2df,r3df,r4df,r5df]\n",
    "\n",
    "# Extract the 'damage' column from each DataFrame and concatenate them into box_df\n",
    "box_df = pd.concat([df['damage'].dropna() for df in dataframes_list], axis=1)\n",
    "median = [df['damage'].median() for df in dataframes_list]\n",
    "\n",
    "# Rename the columns in the new DataFrame\n",
    "column_names = ['0 res','1 res','2 res','3 res','4 res','5 res']\n",
    "box_df.columns = column_names\n",
    "\n",
    "bplt = box_df.plot.box()\n",
    "bplt.set_ylabel(\"damage done\")\n",
    "bplt.set_title(\"resil analysis\")\n",
    "\n",
    "base_resil_dmg = min(median)\n",
    "median_dmg_percent = [round(x/base_resil_dmg,4) for x in median]\n",
    "median_dmg_percent\n",
    "\n",
    "# r1df.sort_values(by='damage')"
   ]
  },
  {
   "cell_type": "markdown",
   "metadata": {},
   "source": [
    "### attunement vs shirking analysis"
   ]
  },
  {
   "cell_type": "code",
   "execution_count": 8,
   "metadata": {},
   "outputs": [],
   "source": [
    "def get_class_data(nw_class,data_points):\n",
    "    df_input = [None]*data_points\n",
    "    for i in range(data_points):\n",
    "        temp_list = calc_rng_dmg.calc_dmg(nw_class,amt_resil_ui=5,amt_shirking_ui=0,amt_aversion_ui=0)\n",
    "        df_input[i] = temp_list\n",
    "    return df_input\n",
    "\n",
    "shirk = get_class_data(\"med_bruiser_wh_shirk\",100000)\n",
    "attunement = get_class_data(\"med_bruiser_wh_attunement\",100000)\n",
    "\n",
    "df_shirk = pd.DataFrame(shirk,columns=[\"damage\",\"base damage\",\"crit\",\"crit damage modifier\",\"empower %\",\"dmg absorbed\",\"rend percentage\"])\n",
    "df_attunement = pd.DataFrame(attunement,columns=[\"damage\",\"base damage\",\"crit\",\"crit damage modifier\",\"empower %\",\"dmg absorbed\",\"rend percentage\"])"
   ]
  },
  {
   "cell_type": "code",
   "execution_count": 9,
   "metadata": {},
   "outputs": [
    {
     "name": "stdout",
     "output_type": "stream",
     "text": [
      "shirking mean: 2228.44614 sf median: 2201.0 standard deviation: 501.58 max: 4048\n",
      "attunement mean: 2279.64388 sf median: 2282.0 standard deviation: 462.63 max: 3487\n"
     ]
    }
   ],
   "source": [
    "print(f\"shirking mean: {df_shirk['damage'].mean()} sf median: {df_shirk['damage'].median()} standard deviation: {round(df_shirk['damage'].std(),2)} max: {df_shirk['damage'].max()}\")\n",
    "print(f\"attunement mean: {df_attunement['damage'].mean()} sf median: {df_attunement['damage'].median()} standard deviation: {round(df_attunement['damage'].std(),2)} max: {df_attunement['damage'].max()}\")"
   ]
  },
  {
   "cell_type": "code",
   "execution_count": 10,
   "metadata": {},
   "outputs": [
    {
     "data": {
      "text/plain": [
       "[1.0, 1.0368]"
      ]
     },
     "execution_count": 10,
     "metadata": {},
     "output_type": "execute_result"
    },
    {
     "data": {
      "image/png": "[encoded data removed]",
      "text/plain": [
       "<Figure size 640x480 with 1 Axes>"
      ]
     },
     "metadata": {},
     "output_type": "display_data"
    }
   ],
   "source": [
    "# List of the DataFrames\n",
    "dataframes_list = [df_shirk,df_attunement]\n",
    "\n",
    "# Extract the 'damage' column from each DataFrame and concatenate them into box_df\n",
    "box_df = pd.concat([df['damage'].dropna() for df in dataframes_list], axis=1)\n",
    "median = [df['damage'].median() for df in dataframes_list]\n",
    "\n",
    "# Rename the columns in the new DataFrame\n",
    "column_names = ['shirking','attunement']\n",
    "box_df.columns = column_names\n",
    "\n",
    "bplt = box_df.plot.box()\n",
    "bplt.set_ylabel(\"damage done\")\n",
    "bplt.set_title(\"war hammer shirking vs attunement\")\n",
    "\n",
    "base_resil_dmg = min(median)\n",
    "median_dmg_percent = [round(x/base_resil_dmg,4) for x in median]\n",
    "median_dmg_percent"
   ]
  }
 ],
 "metadata": {
  "kernelspec": {
   "display_name": "Python 3",
   "language": "python",
   "name": "python3"
  },
  "language_info": {
   "codemirror_mode": {
    "name": "ipython",
    "version": 3
   },
   "file_extension": ".py",
   "mimetype": "text/x-python",
   "name": "python",
   "nbconvert_exporter": "python",
   "pygments_lexer": "ipython3",
   "version": "3.10.6"
  },
  "orig_nbformat": 4
 },
 "nbformat": 4,
 "nbformat_minor": 2
}
