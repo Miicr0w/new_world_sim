{
 "cells": [
  {
   "cell_type": "code",
   "execution_count": 1,
   "metadata": {},
   "outputs": [],
   "source": [
    "import calc_rng_dmg # need to restart kernal if you change amt of resil\n",
    "import pandas as pd\n",
    "from concurrent.futures import ThreadPoolExecutor\n",
    "\n",
    "df_input = []\n",
    "df_input2 = []\n",
    "for amt_resil in range(6):\n",
    "    for amt_shirking_fort in range(6):\n",
    "        for amt_aversion in range(6):\n",
    "            if amt_shirking_fort + amt_aversion == 0 or (amt_shirking_fort + amt_resil >= 5 and amt_shirking_fort + amt_aversion <= 6): # want combined 5-6 EA/SF or non sf/ea for resil data\n",
    "                for i in range(100000):\n",
    "                    temp_list = calc_rng_dmg.calc_dmg(\"light_fs_vicious_fire_damage\",amt_resil_ui=amt_resil,amt_shirking_ui=amt_shirking_fort,amt_aversion_ui=amt_aversion)\n",
    "                    temp_list.append(amt_resil)\n",
    "                    temp_list.append(amt_shirking_fort)\n",
    "                    temp_list.append(amt_aversion)\n",
    "                    df_input.append(temp_list)\n",
    "\n",
    "df = pd.DataFrame(df_input,columns=[\"damage\",\"base damage\",\"crit\",\"crit damage modifier\",\"empower %\",\"dmg absorbed\",\"rend percentage\",\"amt resil\",\"amt shirking fort\", \"amt aversion\"])"
   ]
  },
  {
   "cell_type": "markdown",
   "metadata": {},
   "source": [
    "### Meta Gear Analysis"
   ]
  },
  {
   "cell_type": "code",
   "execution_count": 2,
   "metadata": {},
   "outputs": [
    {
     "data": {
      "text/html": [
       "<div>\n",
       "<style scoped>\n",
       "    .dataframe tbody tr th:only-of-type {\n",
       "        vertical-align: middle;\n",
       "    }\n",
       "\n",
       "    .dataframe tbody tr th {\n",
       "        vertical-align: top;\n",
       "    }\n",
       "\n",
       "    .dataframe thead th {\n",
       "        text-align: right;\n",
       "    }\n",
       "</style>\n",
       "<table border=\"1\" class=\"dataframe\">\n",
       "  <thead>\n",
       "    <tr style=\"text-align: right;\">\n",
       "      <th></th>\n",
       "      <th>damage</th>\n",
       "      <th>base damage</th>\n",
       "      <th>crit</th>\n",
       "      <th>crit damage modifier</th>\n",
       "      <th>empower %</th>\n",
       "      <th>dmg absorbed</th>\n",
       "      <th>rend percentage</th>\n",
       "      <th>amt resil</th>\n",
       "      <th>amt shirking fort</th>\n",
       "      <th>amt aversion</th>\n",
       "    </tr>\n",
       "  </thead>\n",
       "  <tbody>\n",
       "    <tr>\n",
       "      <th>8092401</th>\n",
       "      <td>1035</td>\n",
       "      <td>1738</td>\n",
       "      <td>False</td>\n",
       "      <td>1.38</td>\n",
       "      <td>0.91</td>\n",
       "      <td>0.85</td>\n",
       "      <td>0.77</td>\n",
       "      <td>5</td>\n",
       "      <td>5</td>\n",
       "      <td>1</td>\n",
       "    </tr>\n",
       "    <tr>\n",
       "      <th>8091758</th>\n",
       "      <td>1056</td>\n",
       "      <td>1726</td>\n",
       "      <td>False</td>\n",
       "      <td>1.38</td>\n",
       "      <td>0.90</td>\n",
       "      <td>0.85</td>\n",
       "      <td>0.80</td>\n",
       "      <td>5</td>\n",
       "      <td>5</td>\n",
       "      <td>1</td>\n",
       "    </tr>\n",
       "    <tr>\n",
       "      <th>7955734</th>\n",
       "      <td>1057</td>\n",
       "      <td>1775</td>\n",
       "      <td>False</td>\n",
       "      <td>1.38</td>\n",
       "      <td>0.91</td>\n",
       "      <td>0.85</td>\n",
       "      <td>0.77</td>\n",
       "      <td>5</td>\n",
       "      <td>5</td>\n",
       "      <td>0</td>\n",
       "    </tr>\n",
       "    <tr>\n",
       "      <th>8031488</th>\n",
       "      <td>1060</td>\n",
       "      <td>1738</td>\n",
       "      <td>False</td>\n",
       "      <td>1.38</td>\n",
       "      <td>0.92</td>\n",
       "      <td>0.85</td>\n",
       "      <td>0.78</td>\n",
       "      <td>5</td>\n",
       "      <td>5</td>\n",
       "      <td>1</td>\n",
       "    </tr>\n",
       "    <tr>\n",
       "      <th>8041052</th>\n",
       "      <td>1070</td>\n",
       "      <td>1751</td>\n",
       "      <td>False</td>\n",
       "      <td>1.38</td>\n",
       "      <td>0.91</td>\n",
       "      <td>0.85</td>\n",
       "      <td>0.79</td>\n",
       "      <td>5</td>\n",
       "      <td>5</td>\n",
       "      <td>1</td>\n",
       "    </tr>\n",
       "    <tr>\n",
       "      <th>...</th>\n",
       "      <td>...</td>\n",
       "      <td>...</td>\n",
       "      <td>...</td>\n",
       "      <td>...</td>\n",
       "      <td>...</td>\n",
       "      <td>...</td>\n",
       "      <td>...</td>\n",
       "      <td>...</td>\n",
       "      <td>...</td>\n",
       "      <td>...</td>\n",
       "    </tr>\n",
       "    <tr>\n",
       "      <th>7971370</th>\n",
       "      <td>3550</td>\n",
       "      <td>2612</td>\n",
       "      <td>True</td>\n",
       "      <td>1.38</td>\n",
       "      <td>1.30</td>\n",
       "      <td>0.85</td>\n",
       "      <td>1.23</td>\n",
       "      <td>5</td>\n",
       "      <td>5</td>\n",
       "      <td>0</td>\n",
       "    </tr>\n",
       "    <tr>\n",
       "      <th>7956305</th>\n",
       "      <td>3557</td>\n",
       "      <td>2637</td>\n",
       "      <td>True</td>\n",
       "      <td>1.38</td>\n",
       "      <td>1.29</td>\n",
       "      <td>0.85</td>\n",
       "      <td>1.23</td>\n",
       "      <td>5</td>\n",
       "      <td>5</td>\n",
       "      <td>0</td>\n",
       "    </tr>\n",
       "    <tr>\n",
       "      <th>7975752</th>\n",
       "      <td>3557</td>\n",
       "      <td>2575</td>\n",
       "      <td>True</td>\n",
       "      <td>1.38</td>\n",
       "      <td>1.30</td>\n",
       "      <td>0.85</td>\n",
       "      <td>1.25</td>\n",
       "      <td>5</td>\n",
       "      <td>5</td>\n",
       "      <td>0</td>\n",
       "    </tr>\n",
       "    <tr>\n",
       "      <th>7987219</th>\n",
       "      <td>3584</td>\n",
       "      <td>2637</td>\n",
       "      <td>True</td>\n",
       "      <td>1.38</td>\n",
       "      <td>1.30</td>\n",
       "      <td>0.85</td>\n",
       "      <td>1.23</td>\n",
       "      <td>5</td>\n",
       "      <td>5</td>\n",
       "      <td>0</td>\n",
       "    </tr>\n",
       "    <tr>\n",
       "      <th>7962848</th>\n",
       "      <td>3598</td>\n",
       "      <td>2625</td>\n",
       "      <td>True</td>\n",
       "      <td>1.38</td>\n",
       "      <td>1.29</td>\n",
       "      <td>0.85</td>\n",
       "      <td>1.25</td>\n",
       "      <td>5</td>\n",
       "      <td>5</td>\n",
       "      <td>0</td>\n",
       "    </tr>\n",
       "  </tbody>\n",
       "</table>\n",
       "<p>200000 rows × 10 columns</p>\n",
       "</div>"
      ],
      "text/plain": [
       "         damage  base damage   crit  crit damage modifier  empower %  \\\n",
       "8092401    1035         1738  False                  1.38       0.91   \n",
       "8091758    1056         1726  False                  1.38       0.90   \n",
       "7955734    1057         1775  False                  1.38       0.91   \n",
       "8031488    1060         1738  False                  1.38       0.92   \n",
       "8041052    1070         1751  False                  1.38       0.91   \n",
       "...         ...          ...    ...                   ...        ...   \n",
       "7971370    3550         2612   True                  1.38       1.30   \n",
       "7956305    3557         2637   True                  1.38       1.29   \n",
       "7975752    3557         2575   True                  1.38       1.30   \n",
       "7987219    3584         2637   True                  1.38       1.30   \n",
       "7962848    3598         2625   True                  1.38       1.29   \n",
       "\n",
       "         dmg absorbed  rend percentage  amt resil  amt shirking fort  \\\n",
       "8092401          0.85             0.77          5                  5   \n",
       "8091758          0.85             0.80          5                  5   \n",
       "7955734          0.85             0.77          5                  5   \n",
       "8031488          0.85             0.78          5                  5   \n",
       "8041052          0.85             0.79          5                  5   \n",
       "...               ...              ...        ...                ...   \n",
       "7971370          0.85             1.23          5                  5   \n",
       "7956305          0.85             1.23          5                  5   \n",
       "7975752          0.85             1.25          5                  5   \n",
       "7987219          0.85             1.23          5                  5   \n",
       "7962848          0.85             1.25          5                  5   \n",
       "\n",
       "         amt aversion  \n",
       "8092401             1  \n",
       "8091758             1  \n",
       "7955734             0  \n",
       "8031488             1  \n",
       "8041052             1  \n",
       "...               ...  \n",
       "7971370             0  \n",
       "7956305             0  \n",
       "7975752             0  \n",
       "7987219             0  \n",
       "7962848             0  \n",
       "\n",
       "[200000 rows x 10 columns]"
      ]
     },
     "execution_count": 2,
     "metadata": {},
     "output_type": "execute_result"
    }
   ],
   "source": [
    "sf_df = df[(df['amt resil'] == 5) & (df['amt shirking fort'] == 5)]\n",
    "ea_df = df[(df['amt resil'] == 5) & (df['amt aversion'] == 5)]\n",
    "illegal_sf_df = df[(df['amt resil'] == 4) & (df['amt shirking fort'] == 5) & (df['amt aversion'] == 1)]\n",
    "illegal_ea_df = df[(df['amt resil'] == 4) & (df['amt shirking fort'] == 1) & (df['amt aversion'] == 5)]\n",
    "\n",
    "sf_df.sort_values(by='damage')"
   ]
  },
  {
   "cell_type": "code",
   "execution_count": 3,
   "metadata": {},
   "outputs": [
    {
     "name": "stdout",
     "output_type": "stream",
     "text": [
      "sf mean: 1958.008785 sf median: 1915.0 standard deviation: 370.85 max: 3598\n",
      "sf mean: 1833.31178 sf median: 1790.0 standard deviation: 355.95 max: 3271\n",
      "sf mean: 1949.98663 sf median: 1901.0 standard deviation: 381.98 max: 3609\n",
      "sf mean: 1836.95637 sf median: 1788.0 standard deviation: 369.13 max: 3340\n"
     ]
    }
   ],
   "source": [
    "print(f\"sf mean: {sf_df['damage'].mean()} sf median: {sf_df['damage'].median()} standard deviation: {round(sf_df['damage'].std(),2)} max: {sf_df['damage'].max()}\")\n",
    "print(f\"sf mean: {ea_df['damage'].mean()} sf median: {ea_df['damage'].median()} standard deviation: {round(ea_df['damage'].std(),2)} max: {ea_df['damage'].max()}\")\n",
    "print(f\"sf mean: {illegal_sf_df['damage'].mean()} sf median: {illegal_sf_df['damage'].median()} standard deviation: {round(illegal_sf_df['damage'].std(),2)} max: {illegal_sf_df['damage'].max()}\")\n",
    "print(f\"sf mean: {illegal_ea_df['damage'].mean()} sf median: {illegal_ea_df['damage'].median()} standard deviation: {round(illegal_ea_df['damage'].std(),2)} max: {illegal_ea_df['damage'].max()}\")"
   ]
  },
  {
   "cell_type": "code",
   "execution_count": 4,
   "metadata": {},
   "outputs": [
    {
     "data": {
      "text/plain": [
       "[1.068, 1.0, 1.0636, 1.002]"
      ]
     },
     "execution_count": 4,
     "metadata": {},
     "output_type": "execute_result"
    },
    {
     "data": {
      "image/png": "[encoded data removed]",
      "text/plain": [
       "<Figure size 640x480 with 1 Axes>"
      ]
     },
     "metadata": {},
     "output_type": "display_data"
    }
   ],
   "source": [
    "# List of the DataFrames\n",
    "dataframes_list = [sf_df, ea_df, illegal_sf_df, illegal_ea_df]\n",
    "\n",
    "# Extract the 'damage' column from each DataFrame and concatenate them into box_df\n",
    "box_df = pd.concat([df['damage'].dropna() for df in dataframes_list], axis=1)\n",
    "mean = [df['damage'].mean() for df in dataframes_list]\n",
    "\n",
    "# Rename the columns in the new DataFrame\n",
    "column_names = ['5 sf','5 ea','sf exp','ea exp']\n",
    "box_df.columns = column_names\n",
    "\n",
    "bplt = box_df.plot.box()\n",
    "bplt.set_ylabel(\"damage done\")\n",
    "bplt.set_title(\"dmg taken in meta gear\")\n",
    "\n",
    "base_resil_dmg = min(mean)\n",
    "mean_dmg_percent = [round(x/base_resil_dmg,4) for x in mean]\n",
    "mean_dmg_percent\n"
   ]
  },
  {
   "cell_type": "markdown",
   "metadata": {},
   "source": [
    "### Resil Analysis"
   ]
  },
  {
   "cell_type": "code",
   "execution_count": 5,
   "metadata": {},
   "outputs": [],
   "source": [
    "r0df = df[(df['amt resil']==0) & (df['amt aversion']==0) & (df['amt shirking fort']==0)]\n",
    "r1df = df[(df['amt resil']==1) & (df['amt aversion']==0) & (df['amt shirking fort']==0)]\n",
    "r2df = df[(df['amt resil']==2) & (df['amt aversion']==0) & (df['amt shirking fort']==0)]\n",
    "r3df = df[(df['amt resil']==3) & (df['amt aversion']==0) & (df['amt shirking fort']==0)]\n",
    "r4df = df[(df['amt resil']==4) & (df['amt aversion']==0) & (df['amt shirking fort']==0)]\n",
    "r5df = df[(df['amt resil']==5) & (df['amt aversion']==0) & (df['amt shirking fort']==0)]"
   ]
  },
  {
   "cell_type": "code",
   "execution_count": 6,
   "metadata": {},
   "outputs": [
    {
     "name": "stdout",
     "output_type": "stream",
     "text": [
      "0 resil mean: 2166.67261 sf median: 2085.0 standard deviation: 482.27 max: 4057\n",
      "1 resil mean: 2147.19674 sf median: 2077.0 standard deviation: 457.87 max: 3922\n",
      "2 resil mean: 2127.38541 sf median: 2064.0 standard deviation: 439.25 max: 3854\n",
      "3 resil mean: 2110.37153 sf median: 2056.0 standard deviation: 418.8 max: 3746\n",
      "4 resil mean: 2090.97303 sf median: 2042.0 standard deviation: 399.33 max: 3652\n",
      "5 resil mean: 2075.43302 sf median: 2033.0 standard deviation: 383.36 max: 3642\n"
     ]
    }
   ],
   "source": [
    "print(f\"0 resil mean: {r0df['damage'].mean()} sf median: {r0df['damage'].median()} standard deviation: {round(r0df['damage'].std(),2)} max: {r0df['damage'].max()}\")\n",
    "print(f\"1 resil mean: {r1df['damage'].mean()} sf median: {r1df['damage'].median()} standard deviation: {round(r1df['damage'].std(),2)} max: {r1df['damage'].max()}\")\n",
    "print(f\"2 resil mean: {r2df['damage'].mean()} sf median: {r2df['damage'].median()} standard deviation: {round(r2df['damage'].std(),2)} max: {r2df['damage'].max()}\")\n",
    "print(f\"3 resil mean: {r3df['damage'].mean()} sf median: {r3df['damage'].median()} standard deviation: {round(r3df['damage'].std(),2)} max: {r3df['damage'].max()}\")\n",
    "print(f\"4 resil mean: {r4df['damage'].mean()} sf median: {r4df['damage'].median()} standard deviation: {round(r4df['damage'].std(),2)} max: {r4df['damage'].max()}\")\n",
    "print(f\"5 resil mean: {r5df['damage'].mean()} sf median: {r5df['damage'].median()} standard deviation: {round(r5df['damage'].std(),2)} max: {r5df['damage'].max()}\")\n"
   ]
  },
  {
   "cell_type": "code",
   "execution_count": 7,
   "metadata": {},
   "outputs": [
    {
     "data": {
      "text/plain": [
       "[1.0256, 1.0216, 1.0152, 1.0113, 1.0044, 1.0]"
      ]
     },
     "execution_count": 7,
     "metadata": {},
     "output_type": "execute_result"
    },
    {
     "data": {
      "image/png": "[encoded data removed]",
      "text/plain": [
       "<Figure size 640x480 with 1 Axes>"
      ]
     },
     "metadata": {},
     "output_type": "display_data"
    }
   ],
   "source": [
    "# List of the DataFrames\n",
    "dataframes_list = [r0df,r1df,r2df,r3df,r4df,r5df]\n",
    "\n",
    "# Extract the 'damage' column from each DataFrame and concatenate them into box_df\n",
    "box_df = pd.concat([df['damage'].dropna() for df in dataframes_list], axis=1)\n",
    "median = [df['damage'].median() for df in dataframes_list]\n",
    "\n",
    "# Rename the columns in the new DataFrame\n",
    "column_names = ['0 res','1 res','2 res','3 res','4 res','5 res']\n",
    "box_df.columns = column_names\n",
    "\n",
    "bplt = box_df.plot.box()\n",
    "bplt.set_ylabel(\"damage done\")\n",
    "bplt.set_title(\"resil analysis\")\n",
    "\n",
    "base_resil_dmg = min(median)\n",
    "median_dmg_percent = [round(x/base_resil_dmg,4) for x in median]\n",
    "median_dmg_percent\n",
    "\n",
    "# r1df.sort_values(by='damage')"
   ]
  },
  {
   "cell_type": "markdown",
   "metadata": {},
   "source": [
    "### attunement vs shirking analysis"
   ]
  },
  {
   "cell_type": "code",
   "execution_count": 8,
   "metadata": {},
   "outputs": [],
   "source": [
    "def get_class_data(nw_class,data_points):\n",
    "    df_input = [None]*data_points\n",
    "    for i in range(data_points):\n",
    "        temp_list = calc_rng_dmg.calc_dmg(nw_class,amt_resil_ui=5,amt_shirking_ui=0,amt_aversion_ui=0)\n",
    "        df_input[i] = temp_list\n",
    "    return df_input\n",
    "\n",
    "shirk = get_class_data(\"med_bruiser_wh_shirk\",100000)\n",
    "attunement = get_class_data(\"med_bruiser_wh_attunement\",100000)\n",
    "\n",
    "df_shirk = pd.DataFrame(shirk,columns=[\"damage\",\"base damage\",\"crit\",\"crit damage modifier\",\"empower %\",\"dmg absorbed\",\"rend percentage\"])\n",
    "df_attunement = pd.DataFrame(attunement,columns=[\"damage\",\"base damage\",\"crit\",\"crit damage modifier\",\"empower %\",\"dmg absorbed\",\"rend percentage\"])"
   ]
  },
  {
   "cell_type": "code",
   "execution_count": 9,
   "metadata": {},
   "outputs": [
    {
     "name": "stdout",
     "output_type": "stream",
     "text": [
      "shirking mean: 2330.98804 sf median: 2305.0 standard deviation: 525.05 max: 4348\n",
      "attunement mean: 2387.64551 sf median: 2391.0 standard deviation: 488.29 max: 3787\n"
     ]
    }
   ],
   "source": [
    "print(f\"shirking mean: {df_shirk['damage'].mean()} sf median: {df_shirk['damage'].median()} standard deviation: {round(df_shirk['damage'].std(),2)} max: {df_shirk['damage'].max()}\")\n",
    "print(f\"attunement mean: {df_attunement['damage'].mean()} sf median: {df_attunement['damage'].median()} standard deviation: {round(df_attunement['damage'].std(),2)} max: {df_attunement['damage'].max()}\")"
   ]
  },
  {
   "cell_type": "code",
   "execution_count": 10,
   "metadata": {},
   "outputs": [
    {
     "data": {
      "text/plain": [
       "[1.0, 1.0373]"
      ]
     },
     "execution_count": 10,
     "metadata": {},
     "output_type": "execute_result"
    },
    {
     "data": {
      "image/png": "[encoded data removed]",
      "text/plain": [
       "<Figure size 640x480 with 1 Axes>"
      ]
     },
     "metadata": {},
     "output_type": "display_data"
    }
   ],
   "source": [
    "# List of the DataFrames\n",
    "dataframes_list = [df_shirk,df_attunement]\n",
    "\n",
    "# Extract the 'damage' column from each DataFrame and concatenate them into box_df\n",
    "box_df = pd.concat([df['damage'].dropna() for df in dataframes_list], axis=1)\n",
    "median = [df['damage'].median() for df in dataframes_list]\n",
    "\n",
    "# Rename the columns in the new DataFrame\n",
    "column_names = ['shirking','attunement']\n",
    "box_df.columns = column_names\n",
    "\n",
    "bplt = box_df.plot.box()\n",
    "bplt.set_ylabel(\"damage done\")\n",
    "bplt.set_title(\"war hammer shirking vs attunement\")\n",
    "\n",
    "base_resil_dmg = min(median)\n",
    "median_dmg_percent = [round(x/base_resil_dmg,4) for x in median]\n",
    "median_dmg_percent"
   ]
  },
  {
   "cell_type": "code",
   "execution_count": 14,
   "metadata": {},
   "outputs": [],
   "source": [
    "fd = get_class_data(\"light_fs_vicious_fire_damage\",100000)\n",
    "ip = get_class_data(\"light_fs_vicious_invig_punishment\",100000)\n",
    "\n",
    "df_fd = pd.DataFrame(fd,columns=[\"damage\",\"base damage\",\"crit\",\"crit damage modifier\",\"empower %\",\"dmg absorbed\",\"rend percentage\"])\n",
    "df_ip = pd.DataFrame(ip,columns=[\"damage\",\"base damage\",\"crit\",\"crit damage modifier\",\"empower %\",\"dmg absorbed\",\"rend percentage\"])"
   ]
  },
  {
   "cell_type": "code",
   "execution_count": 15,
   "metadata": {},
   "outputs": [
    {
     "name": "stdout",
     "output_type": "stream",
     "text": [
      "shirking mean: 2075.95176 sf median: 2032.0 standard deviation: 386.73 max: 3642\n",
      "attunement mean: 1984.90382 sf median: 1944.0 standard deviation: 372.35 max: 3469\n"
     ]
    }
   ],
   "source": [
    "print(f\"fire damage mean: {df_fd['damage'].mean()} sf median: {df_fd['damage'].median()} standard deviation: {round(df_fd['damage'].std(),2)} max: {df_fd['damage'].max()}\")\n",
    "print(f\"invig punishment mean: {df_ip['damage'].mean()} sf median: {df_ip['damage'].median()} standard deviation: {round(df_ip['damage'].std(),2)} max: {df_ip['damage'].max()}\")"
   ]
  },
  {
   "cell_type": "code",
   "execution_count": 16,
   "metadata": {},
   "outputs": [
    {
     "data": {
      "text/plain": [
       "[1.0453, 1.0]"
      ]
     },
     "execution_count": 16,
     "metadata": {},
     "output_type": "execute_result"
    },
    {
     "data": {
      "image/png": "[encoded data removed]",
      "text/plain": [
       "<Figure size 640x480 with 1 Axes>"
      ]
     },
     "metadata": {},
     "output_type": "display_data"
    }
   ],
   "source": [
    "# List of the DataFrames\n",
    "dataframes_list = [df_fd,df_ip]\n",
    "\n",
    "# Extract the 'damage' column from each DataFrame and concatenate them into box_df\n",
    "box_df = pd.concat([df['damage'].dropna() for df in dataframes_list], axis=1)\n",
    "median = [df['damage'].median() for df in dataframes_list]\n",
    "\n",
    "# Rename the columns in the new DataFrame\n",
    "column_names = ['fire damage','invig punishment']\n",
    "box_df.columns = column_names\n",
    "\n",
    "bplt = box_df.plot.box()\n",
    "bplt.set_ylabel(\"damage done\")\n",
    "bplt.set_title(\"fire damage vs invig punishment\")\n",
    "\n",
    "base_resil_dmg = min(median)\n",
    "median_dmg_percent = [round(x/base_resil_dmg,4) for x in median]\n",
    "median_dmg_percent"
   ]
  }
 ],
 "metadata": {
  "kernelspec": {
   "display_name": "Python 3",
   "language": "python",
   "name": "python3"
  },
  "language_info": {
   "codemirror_mode": {
    "name": "ipython",
    "version": 3
   },
   "file_extension": ".py",
   "mimetype": "text/x-python",
   "name": "python",
   "nbconvert_exporter": "python",
   "pygments_lexer": "ipython3",
   "version": "3.10.6"
  },
  "orig_nbformat": 4
 },
 "nbformat": 4,
 "nbformat_minor": 2
}
